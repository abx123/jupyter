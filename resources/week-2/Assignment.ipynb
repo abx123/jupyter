{
 "metadata": {
  "language_info": {
   "codemirror_mode": {
    "name": "ipython",
    "version": 3
   },
   "file_extension": ".py",
   "mimetype": "text/x-python",
   "name": "python",
   "nbconvert_exporter": "python",
   "pygments_lexer": "ipython3",
   "version": "3.8.5-final"
  },
  "orig_nbformat": 2,
  "kernelspec": {
   "name": "Python 3.8.5 64-bit",
   "display_name": "Python 3.8.5 64-bit",
   "metadata": {
    "interpreter": {
     "hash": "3d83f065604c80fe0122dfd550825239e3a1bf71dee35dc9994c7870e21cb91b"
    }
   }
  }
 },
 "nbformat": 4,
 "nbformat_minor": 2,
 "cells": [
  {
   "cell_type": "code",
   "execution_count": 67,
   "metadata": {},
   "outputs": [],
   "source": [
    "# Question 1\n",
    "# Write a function called proportion_of_education which returns the proportion of children in the dataset who had a mother with the education levels equal to less than high school (<12), high school (12), more than high school but not a college graduate (>12) and college degree.\n",
    "\n",
    "# This function should return a dictionary in the form of (use the correct numbers, do not round numbers):\n",
    "\n",
    "#     {\"less than high school\":0.2,\n",
    "#     \"high school\":0.4,\n",
    "#     \"more than high school but not college\":0.2,\n",
    "#     \"college\":0.2}"
   ]
  },
  {
   "cell_type": "code",
   "execution_count": 106,
   "metadata": {
    "tags": []
   },
   "outputs": [
    {
     "output_type": "stream",
     "name": "stdout",
     "text": "       Unnamed: 0  EDUC1\n0               1      4\n1               2      3\n2               3      3\n3               4      4\n4               5      1\n...           ...    ...\n28460       28461      3\n28461       28462      2\n28462       28463      3\n28463       28464      2\n28464       28465      4\n\n[28465 rows x 2 columns]\n"
    },
    {
     "output_type": "execute_result",
     "data": {
      "text/plain": "{&#39;less than high school&#39;: 0.10202002459160373,\n &#39;high school&#39;: 0.172352011241876,\n &#39;more than high school but not college&#39;: 0.24588090637625154,\n &#39;college&#39;: 0.47974705779026877}"
     },
     "metadata": {},
     "execution_count": 106
    }
   ],
   "source": [
    "import pandas as pd\n",
    "def proportion_of_education():\n",
    "    data = ['Unnamed: 0', 'EDUC1']\n",
    "    df = pd.read_csv(\"dataset/NISPUF17.csv\", usecols=data)\n",
    "    print(df)\n",
    "    freq = df.groupby('EDUC1').count()\n",
    "    obs = len(df.index)\n",
    "    # print(df)\n",
    "\n",
    "    # print((df[df[\"EDUC1\"]==4])/df)\n",
    "\n",
    "    return {\"less than high school\":len((df[df[\"EDUC1\"]==1]))/obs,\n",
    "    \"high school\":len((df[df[\"EDUC1\"]==2]))/obs,\n",
    "    \"more than high school but not college\":len((df[df[\"EDUC1\"]==3]))/obs,\n",
    "    \"college\":len((df[df[\"EDUC1\"]==4]))/obs}\n",
    "\n",
    "proportion_of_education()\n"
   ]
  },
  {
   "cell_type": "code",
   "execution_count": null,
   "metadata": {},
   "outputs": [],
   "source": [
    "# Question 2\n",
    "# Let's explore the relationship between being fed breastmilk as a child and getting a seasonal influenza vaccine from a healthcare provider. Return a tuple of the average number of influenza vaccines for those children we know received breastmilk as a child and those who know did not.\n",
    "\n",
    "# This function should return a tuple in the form (use the correct numbers:\n",
    "\n",
    "# (2.5, 0.1)"
   ]
  },
  {
   "cell_type": "code",
   "execution_count": 135,
   "metadata": {
    "tags": []
   },
   "outputs": [
    {
     "output_type": "stream",
     "name": "stdout",
     "text": "[nan  0.  3.  2.  1.  4.  5.  6.]\n24261 4085\n24986.0\n3188.0\n24986.0 3188.0\n1.0298833518816206\n0.7804161566707466\n"
    }
   ],
   "source": [
    "data = ['Unnamed: 0', 'P_NUMFLU', 'CBF_01']\n",
    "df = pd.read_csv(\"dataset/NISPUF17.csv\", usecols=data)\n",
    "# print(df.head())\n",
    "# df =  df.groupby('CBF_01').count()\n",
    "# print(df[df[\"P_NUMFLU\"]==13291])\n",
    "# print(df[df[\"Unnamed: 0\"]==24261])\n",
    "\n",
    "bf = df[df[\"CBF_01\"]==1]\n",
    "nbf = df[df[\"CBF_01\"]==2]\n",
    "bf.dropna()\n",
    "nbf.dropna()\n",
    "# oth = df[df[\"CBF_01\"]==77]\n",
    "# oth2 = df[df[\"CBF_01\"]==99]\n",
    "totalbf = bf[\"P_NUMFLU\"].sum()\n",
    "totalnbf = nbf[\"P_NUMFLU\"].sum()\n",
    "nbf.sum(axis = 0, skipna = True)\n",
    "print(bf[\"P_NUMFLU\"].unique())\n",
    "print(len(bf), len(nbf))\n",
    "\n",
    "print(bf[\"P_NUMFLU\"].sum(axis=0,skipna=True))\n",
    "print(nbf[\"P_NUMFLU\"].sum(axis=0,skipna=True))\n",
    "print(totalbf, totalnbf)\n",
    "\n",
    "\n",
    "print(totalbf/len(bf))\n",
    "print(totalnbf/len(nbf))\n",
    "\n",
    "# print ((df.iloc[0]['P_NUMFLU']/df.iloc[0]['Unnamed: 0']), (df.iloc[1]['P_NUMFLU'] + df.iloc[2]['P_NUMFLU'] + df.iloc[3]['P_NUMFLU'])/(df.iloc[1]['Unnamed: 0'] + df.iloc[2]['Unnamed: 0'] + df.iloc[3]['Unnamed: 0']))"
   ]
  },
  {
   "cell_type": "code",
   "execution_count": null,
   "metadata": {},
   "outputs": [],
   "source": [
    "# Question 3\n",
    "# It would be interesting to see if there is any evidence of a link between vaccine effectiveness and sex of the child. Calculate the ratio of the number of children who contracted chickenpox but were vaccinated against it (at least one varicella dose) versus those who were vaccinated but did not contract chicken pox. Return results by sex.\n",
    "\n",
    "# This function should return a dictionary in the form of (use the correct numbers):\n",
    "\n",
    "#     {\"male\":0.2,\n",
    "#     \"female\":0.4}\n",
    "# Note: To aid in verification, the chickenpox_by_sex()['female'] value the autograder is looking for starts with the digits 0.0077."
   ]
  },
  {
   "cell_type": "code",
   "execution_count": null,
   "metadata": {},
   "outputs": [],
   "source": [
    "d1 = ['Unnamed: 0', 'HAD_CPOX', 'P_NUMVRC', 'SEX']\n",
    "df = pd.read_csv('dataset/NISPUF17.csv', usecols=d1)\n",
    "\n",
    "\n",
    "\n",
    "male = df[df[\"SEX\"]==1]\n",
    "female = df[df[\"SEX\"]==2]\n",
    "\n",
    "malecpox = male[male[\"HAD_CPOX\"]==1]\n",
    "femalecpox = female[female[\"HAD_CPOX\"]==1]\n",
    "\n",
    "malecpoxvac = malecpox[malecpox[\"P_NUMVRC\"]>0]\n",
    "femalecpoxvac = femalecpox[femalecpox[\"P_NUMVRC\"]>0]\n",
    "\n",
    "# m1 = df.loc[(df['SEX']==1),['Unnamed: 0', 'HAD_CPOX', 'P_NUMVRC', 'SEX']]\n",
    "# f1 = df.loc[(df['SEX']==2),['Unnamed: 0', 'HAD_CPOX', 'P_NUMVRC', 'SEX']]\n",
    "\n",
    "\n",
    "# m2 = m1.loc[(m1['P_NUMVRC'] > 0) & (m1['HAD_CPOX'] == 1),['Unnamed: 0', 'HAD_CPOX', 'P_NUMVRC', 'SEX']]\n",
    "# f2 = f1.loc[(f1['P_NUMVRC'] > 0) & (f1['HAD_CPOX'] == 1),['Unnamed: 0', 'HAD_CPOX', 'P_NUMVRC', 'SEX']]\n",
    "\n",
    "print (len(m2)/len(m1))\n",
    "print (len(f2)/len(f1))"
   ]
  },
  {
   "cell_type": "code",
   "execution_count": null,
   "metadata": {},
   "outputs": [],
   "source": [
    "# Question 4\n",
    "# A correlation is a statistical relationship between two variables. If we wanted to know if vaccines work, we might look at the correlation between the use of the vaccine and whether it results in prevention of the infection or disease [1]. In this question, you are to see if there is a correlation between having had the chicken pox and the number of chickenpox vaccine doses given (varicella).\n",
    "\n",
    "# Some notes on interpreting the answer. The had_chickenpox_column is either 1 (for yes) or 2 (for no), and the num_chickenpox_vaccine_column is the number of doses a child has been given of the varicella vaccine. A positive correlation (e.g., corr > 0) means that an increase in had_chickenpox_column (which means more no’s) would also increase the values of num_chickenpox_vaccine_column (which means more doses of vaccine). If there is a negative correlation (e.g., corr < 0), it indicates that having had chickenpox is related to an increase in the number of vaccine doses.\n",
    "\n",
    "# Also, pval is the probability that we observe a correlation between had_chickenpox_column and num_chickenpox_vaccine_column which is greater than or equal to a particular value occurred by chance. A small pval means that the observed correlation is highly unlikely to occur by chance. In this case, pval should be very small (will end in e-18 indicating a very small number).\n",
    "\n",
    "# [1] This isn’t really the full picture, since we are not looking at when the dose was given. It’s possible that children had chickenpox and then their parents went to get them the vaccine. Does this dataset have the data we would need to investigate the timing of the dose?"
   ]
  },
  {
   "cell_type": "code",
   "execution_count": 57,
   "metadata": {
    "tags": []
   },
   "outputs": [
    {
     "output_type": "stream",
     "name": "stdout",
     "text": "0.04375693346277229 1.5165752508413644e-13\n"
    }
   ],
   "source": [
    "import math\n",
    "missing_values = [77, 99]\n",
    "\n",
    "d1 = ['Unnamed: 0', 'HAD_CPOX', 'P_NUMVRC', 'SEX']\n",
    "df = pd.read_csv('dataset/NISPUF17.csv', usecols=d1, na_values = missing_values)\n",
    "df['P_NUMVRC'].fillna(0, inplace=True)\n",
    "df['HAD_CPOX'].fillna(2, inplace=True)\n",
    "\n",
    "\n",
    "df2=pd.DataFrame(data={\"had_chickenpox_column\":df['HAD_CPOX'],\n",
    "                \"num_chickenpox_vaccine_column\":df['P_NUMVRC']})\n",
    "\n",
    "corr, pval=stats.pearsonr(df2[\"had_chickenpox_column\"],df2[\"num_chickenpox_vaccine_column\"])\n",
    "print(corr, pval)\n"
   ]
  },
  {
   "cell_type": "code",
   "execution_count": null,
   "metadata": {},
   "outputs": [],
   "source": []
  }
 ]
}